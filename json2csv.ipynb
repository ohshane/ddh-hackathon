{
 "cells": [
  {
   "cell_type": "markdown",
   "metadata": {},
   "source": [
    "### Hackathon 2022 (DDH)\n",
    "---\n",
    "- 6개의 Keypoint를 통하여 정상/비정상을 판단하는 문제를 출제한다\n",
    "- 제공되는 데이터로 6개의 키포인트를 Detection하는 모델을 구축\n",
    "- 해당 모델에서 찾아진 6개의 키포인트로 비율을 계산해 정상 혹은 비정상을 판단\n",
    "- 이때의 비율은,\n",
    "  - 1번 2번 점 이어 연장된 파란색 선\n",
    "  - 연장된 선과 3번 점의 각도를 A\n",
    "  - 연장된 선과 4번 점의 각도를 B\n",
    "  - Head의 최상위, 최하위점 이어서 a가 어딘지 알려 주도록 함\n",
    "  - 이때 5번 6번 점 이은 직선에서의 a비율을 나눠 정상인지 비정상인지 판단\n",
    "- Metrics는 oks기반의 mAP를 기준으로 함\n",
    "- 결과발표를 할 때 어떤 알고리즘을 사용하였으며 어떤 서비스 모델을 만들 수 있을 지 반드시 제시할 것"
   ]
  },
  {
   "cell_type": "code",
   "execution_count": 1,
   "metadata": {},
   "outputs": [
    {
     "name": "stdout",
     "output_type": "stream",
     "text": [
      "__file__  = PosixPath('/home/shane/workspace/hackathon-ddh/__file__')\n"
     ]
    }
   ],
   "source": [
    "import json\n",
    "import os\n",
    "from pathlib import Path\n",
    "\n",
    "__file__ = Path(os.path.abspath('__file__'))\n",
    "root_path = __file__.parent\n",
    "data_path = root_path / 'data'\n",
    "\n",
    "sets = ['train', 'validation', 'test']\n",
    "types = ['images', 'labels']\n",
    "\n",
    "print(f'{__file__  = }')"
   ]
  },
  {
   "cell_type": "code",
   "execution_count": 2,
   "metadata": {},
   "outputs": [
    {
     "name": "stdout",
     "output_type": "stream",
     "text": [
      "train\n",
      " images\t: 8284\n",
      " labels\t: 8284\n",
      "validation\n",
      " images\t: 1000\n",
      " labels\t: 1000\n",
      "test\n",
      " images\t: 1000\n",
      " labels\t: 1000\n"
     ]
    }
   ],
   "source": [
    "for s in sets:\n",
    "    print(s)\n",
    "    for t in types:\n",
    "        print(f' {t}\\t: ', end='')\n",
    "        print(len([x for x in (data_path / s / t).glob('**/*') if x.is_file()]))"
   ]
  },
  {
   "cell_type": "code",
   "execution_count": 3,
   "metadata": {},
   "outputs": [],
   "source": [
    "for s in sets:\n",
    "    is_firstline = True\n",
    "    with open(data_path / f'{s}.csv', 'w') as csv_file:\n",
    "        for label_path in (x for x in (data_path / s / 'labels').glob('**/*') if x.is_file()):\n",
    "            keys = []\n",
    "            values = []\n",
    "            with open(label_path, 'r') as json_file:\n",
    "                label = json.load(json_file)\n",
    "                for k, v in label['images'].items():\n",
    "                    keys.append(k)\n",
    "                    values.append(v)\n",
    "                for k, v in label['annotations'].items():\n",
    "                    if k == 'detailScore':\n",
    "                        keys.append(k)\n",
    "                        values.append(' '.join(map(str, v)))\n",
    "                    elif k == 'segmentation':\n",
    "                        keys.append(k)\n",
    "                        values.append(' '.join(map(str, v[0])))\n",
    "                    elif k == 'keypoints':\n",
    "                        keys.append('keypoints')\n",
    "                        values.append(' '.join(map(str, v['keypoint'])))\n",
    "                        keys.append('num_keypoints')\n",
    "                        values.append(v['num_keypoints'])\n",
    "                        keys.append('containment')\n",
    "                        values.append(v['containment'])\n",
    "                        keys.append('diagnose')\n",
    "                        values.append(v['diagnose'])\n",
    "                        keys.append('a_angle')\n",
    "                        values.append(v['a']['angle'])\n",
    "                        keys.append('a_diagnose')\n",
    "                        values.append(v['a']['diagnose'])\n",
    "                        keys.append('b_angle')\n",
    "                        values.append(v['b']['angle'])\n",
    "                        keys.append('b_diagnose')\n",
    "                        values.append(v['b']['diagnose'])\n",
    "                    else:\n",
    "                        keys.append(k)\n",
    "                        values.append(v)\n",
    "\n",
    "            keys.append('usage')\n",
    "            values.append(s)\n",
    "\n",
    "            if is_firstline:\n",
    "                csv_file.write(','.join(map(str, keys)))\n",
    "                csv_file.write('\\n')\n",
    "                is_firstline = False\n",
    "            csv_file.write(','.join(map(str, values)))\n",
    "            csv_file.write('\\n')\n"
   ]
  }
 ],
 "metadata": {
  "interpreter": {
   "hash": "58907fe78f63c93a3114ab5e0fdb36e51d265a83145a0a6852cc052e563a673e"
  },
  "kernelspec": {
   "display_name": "Python 3.9.7 64-bit ('anaconda3-2021.11')",
   "language": "python",
   "name": "python3"
  },
  "language_info": {
   "codemirror_mode": {
    "name": "ipython",
    "version": 3
   },
   "file_extension": ".py",
   "mimetype": "text/x-python",
   "name": "python",
   "nbconvert_exporter": "python",
   "pygments_lexer": "ipython3",
   "version": "3.9.7"
  },
  "orig_nbformat": 4
 },
 "nbformat": 4,
 "nbformat_minor": 2
}
