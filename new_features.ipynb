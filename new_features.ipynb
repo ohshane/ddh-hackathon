{
 "cells": [
  {
   "cell_type": "code",
   "execution_count": 4,
   "metadata": {},
   "outputs": [
    {
     "name": "stdout",
     "output_type": "stream",
     "text": [
      "__file__  = PosixPath('/home/shane/workspace/hackathon-ddh/__file__')\n"
     ]
    }
   ],
   "source": [
    "import math\n",
    "import matplotlib.pyplot as plt\n",
    "import numpy as np\n",
    "import os\n",
    "import pandas as pd\n",
    "from collections import Counter\n",
    "from pathlib import Path\n",
    "from sympy import symbols, solve\n",
    "\n",
    "__file__ = Path(os.path.abspath('__file__'))\n",
    "root_path = __file__.parent\n",
    "data_path = root_path / 'data'\n",
    "\n",
    "sets = ['validation', 'test', 'train']\n",
    "\n",
    "print(f'{__file__  = }')"
   ]
  },
  {
   "cell_type": "code",
   "execution_count": 5,
   "metadata": {},
   "outputs": [],
   "source": [
    "dfs = {}\n",
    "for s in sets:\n",
    "    dfs[s] = pd.read_csv(root_path / 'original' / f'{s}.csv')"
   ]
  },
  {
   "cell_type": "code",
   "execution_count": 6,
   "metadata": {},
   "outputs": [
    {
     "name": "stdout",
     "output_type": "stream",
     "text": [
      "1000\n"
     ]
    },
    {
     "name": "stderr",
     "output_type": "stream",
     "text": [
      "100%|██████████| 1000/1000 [00:46<00:00, 21.70it/s]\n"
     ]
    },
    {
     "name": "stdout",
     "output_type": "stream",
     "text": [
      "1000\n"
     ]
    },
    {
     "name": "stderr",
     "output_type": "stream",
     "text": [
      "100%|██████████| 1000/1000 [00:42<00:00, 23.49it/s]\n"
     ]
    },
    {
     "name": "stdout",
     "output_type": "stream",
     "text": [
      "8284\n"
     ]
    },
    {
     "name": "stderr",
     "output_type": "stream",
     "text": [
      "100%|██████████| 8284/8284 [05:52<00:00, 23.49it/s]\n"
     ]
    }
   ],
   "source": [
    "from tqdm import tqdm\n",
    "\n",
    "new_dfs = dfs.copy()\n",
    "\n",
    "for s in sets:\n",
    "    alpha = []\n",
    "    alpha_angle = []\n",
    "    alpha_ratio = []\n",
    "    keypoints = list(map(lambda x: str(x).split(' '), dfs[s]['keypoints']))\n",
    "    print(len(keypoints))\n",
    "    for l in tqdm(keypoints):\n",
    "        try:\n",
    "            a = np.reshape(list(map(int, l)), (-1, 3))[:,:2]\n",
    "            p1, p2, p3, p4, p5, p6 = a\n",
    "            x, y = symbols('x, y')\n",
    "            equation1 = ((p1[1]-p2[1])/(p1[0]-p2[0]))*(x - p1[0]) + p1[1] - y\n",
    "            if p5[0] - p6[0] == 0:\n",
    "                equation2 = x - p5[0]\n",
    "            else:\n",
    "                equation2 = ((p5[1]-p6[1])/(p5[0]-p6[0]))*(x - p5[0]) + p5[1] - y\n",
    "            result = solve((equation1, equation2), dict=False)\n",
    "            try:\n",
    "                alpha_x, alpha_y = round(result[x]), round(result[y])\n",
    "                alpha.append(f'{alpha_x} {alpha_y}')\n",
    "            except:\n",
    "                alpha.append('')\n",
    "            try:\n",
    "                a = math.sqrt( (p6[0]-p2[0])**2 + (p6[1]-p2[1])**2 )\n",
    "                b = math.sqrt( (p6[0]-alpha_x)**2 + (p6[1]-alpha_y)**2 )\n",
    "                c = math.sqrt( (p2[0]-alpha_x)**2 + (p2[1]-alpha_y)**2 )\n",
    "                alpha_angle.append(str(round(np.degrees(np.arccos((-a**2+b**2+c**2)/(2*b*c))))))\n",
    "            except:\n",
    "                alpha_angle.append('')\n",
    "            try:\n",
    "                temp_ratio = math.sqrt((alpha_x - p6[0])**2 + (alpha_y - p6[1])**2) / math.sqrt((p5[0] - alpha_x)**2 + (p5[1] - alpha_y)**2)\n",
    "                if alpha_y > p5[1] or alpha_y < p6[1]:\n",
    "                    pass\n",
    "                else:\n",
    "                    temp_ratio *= -1\n",
    "                alpha_ratio.append(str(temp_ratio))\n",
    "            except:\n",
    "                alpha_ratio.append('')\n",
    "        except:\n",
    "            alpha.append('')\n",
    "            alpha_angle.append('')\n",
    "            alpha_ratio.append('')\n",
    "\n",
    "    new_dfs[s]['alpha'] = alpha\n",
    "    new_dfs[s]['alpha_angle'] = alpha_angle\n",
    "    new_dfs[s]['alpha_ratio'] = alpha_ratio\n",
    "\n",
    "    new_dfs[s].to_csv(f'new/{s}.csv', index=False)"
   ]
  }
 ],
 "metadata": {
  "interpreter": {
   "hash": "58907fe78f63c93a3114ab5e0fdb36e51d265a83145a0a6852cc052e563a673e"
  },
  "kernelspec": {
   "display_name": "Python 3.9.7 64-bit ('anaconda3-2021.11')",
   "language": "python",
   "name": "python3"
  },
  "language_info": {
   "codemirror_mode": {
    "name": "ipython",
    "version": 3
   },
   "file_extension": ".py",
   "mimetype": "text/x-python",
   "name": "python",
   "nbconvert_exporter": "python",
   "pygments_lexer": "ipython3",
   "version": "3.9.7"
  },
  "orig_nbformat": 4
 },
 "nbformat": 4,
 "nbformat_minor": 2
}
