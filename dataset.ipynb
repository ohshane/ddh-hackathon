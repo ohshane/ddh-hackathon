{
 "cells": [
  {
   "cell_type": "code",
   "execution_count": 313,
   "metadata": {},
   "outputs": [
    {
     "name": "stdout",
     "output_type": "stream",
     "text": [
      "__file__  = PosixPath('/home/shane/workspace/hackathon-ddh/__file__')\n"
     ]
    }
   ],
   "source": [
    "import numpy as np\n",
    "import os\n",
    "import pandas as pd\n",
    "from pathlib import Path\n",
    "\n",
    "__file__ = Path(os.path.abspath('__file__'))\n",
    "root_path = __file__.parent\n",
    "data_path = root_path / 'data'\n",
    "\n",
    "sets = ['train', 'validation', 'test', 'all']\n",
    "\n",
    "print(f'{__file__  = }')"
   ]
  },
  {
   "cell_type": "code",
   "execution_count": 314,
   "metadata": {},
   "outputs": [],
   "source": [
    "dfs = {}\n",
    "for s in sets:\n",
    "    dfs[s] = pd.read_csv(f'new/{s}.csv')"
   ]
  },
  {
   "cell_type": "code",
   "execution_count": 315,
   "metadata": {},
   "outputs": [
    {
     "name": "stdout",
     "output_type": "stream",
     "text": [
      "<class 'pandas.core.frame.DataFrame'>\n",
      "RangeIndex: 10284 entries, 0 to 10283\n",
      "Data columns (total 23 columns):\n",
      " #   Column         Non-Null Count  Dtype  \n",
      "---  ------         --------------  -----  \n",
      " 0   person_id      10284 non-null  int64  \n",
      " 1   type           10284 non-null  object \n",
      " 2   file_name      10284 non-null  object \n",
      " 3   direction      10284 non-null  object \n",
      " 4   since          10284 non-null  object \n",
      " 5   sex            10284 non-null  object \n",
      " 6   age            10284 non-null  int64  \n",
      " 7   date           10284 non-null  int64  \n",
      " 8   detailScore    10284 non-null  object \n",
      " 9   totalScore     10284 non-null  int64  \n",
      " 10  segmentation   10240 non-null  object \n",
      " 11  keypoints      10281 non-null  object \n",
      " 12  num_keypoints  10284 non-null  int64  \n",
      " 13  containment    7685 non-null   float64\n",
      " 14  diagnose       7685 non-null   object \n",
      " 15  a_angle        10044 non-null  float64\n",
      " 16  a_diagnose     10270 non-null  object \n",
      " 17  b_angle        9214 non-null   float64\n",
      " 18  b_diagnose     10271 non-null  object \n",
      " 19  usage          10284 non-null  object \n",
      " 20  alpha          10281 non-null  object \n",
      " 21  alpha_angle    10281 non-null  float64\n",
      " 22  alpha_ratio    10277 non-null  float64\n",
      "dtypes: float64(5), int64(5), object(13)\n",
      "memory usage: 1.8+ MB\n"
     ]
    }
   ],
   "source": [
    "dfs['all'].info()"
   ]
  },
  {
   "cell_type": "code",
   "execution_count": 316,
   "metadata": {},
   "outputs": [],
   "source": [
    "columns = [\n",
    "    'sex',              # 'm' or 'f' no nan  -> male: 1, female: 0\n",
    "    'age',              # int [0, 15] no nan\n",
    "    'detailScore',      # parsing needed == 5\n",
    "    'totalScore',       # int no nan\n",
    "    'keypoints',        # parsing needed\n",
    "    'containment',      # int.0 positive with nan\n",
    "    'diagnose',         # {'normal': 6509, nan: 2599, 'abnormal': 1176}\n",
    "    'a_angle',          # int.0 or nan\n",
    "    'a_diagnose',       # {'normal': 7458, 'mild Dysplasia': 2465, 'severe dysplasia': 237, 'moderate dysplasia': 110, nan: 14} 0 1 3 2 None\n",
    "    'b_angle',          # int.0 or nan\n",
    "    'b_diagnose',       # {'normal': 8568, 'severe dysplasia': 1058, 'mild Dysplasia': 633, 'moderate dysplasia': 12, nan: 13} 0 3 1 2 None\n",
    "    'alpha',            # int' 'int parsing needed\n",
    "    'alpha_angle',      # int.0 or nan\n",
    "    'alpha_ratio',      # positive float [0, inf)\n",
    "    'usage',            # train, validation, test\n",
    "]"
   ]
  },
  {
   "cell_type": "code",
   "execution_count": 317,
   "metadata": {},
   "outputs": [
    {
     "data": {
      "text/plain": [
       "(10284, 12)"
      ]
     },
     "execution_count": 317,
     "metadata": {},
     "output_type": "execute_result"
    }
   ],
   "source": [
    "df = dfs['all'][columns].copy()\n",
    "df = df.drop(['detailScore', 'keypoints', 'alpha'], axis=1)\n",
    "df.shape"
   ]
  },
  {
   "cell_type": "code",
   "execution_count": 318,
   "metadata": {},
   "outputs": [],
   "source": [
    "detail_score = np.array(list(map(lambda x: list(map(int, x.split(' '))) ,dfs['all']['detailScore'])))\n",
    "for i in range(5):\n",
    "    df[f'detail_score_{i}'] = detail_score[:, i:i+1]\n",
    "\n",
    "\n",
    "keypoints = list(map(lambda x: list(map(lambda i: int(i) if i.isnumeric() else None, x.split(' '))), map(str, dfs['all']['keypoints'])))\n",
    "for i in range(len(keypoints)):\n",
    "    if len(keypoints[i]) != 18:\n",
    "        keypoints[i] = [None] * 18\n",
    "\n",
    "keypoints = np.array(keypoints)\n",
    "for i in range(18):\n",
    "    df[f'keypoints_{i}'] = keypoints[:, i:i+1]\n",
    "\n",
    "alpha = list(map(lambda x: list(map(lambda i: int(i) if i.isnumeric() else None, x.split(' '))), map(str, dfs['all']['alpha'])))\n",
    "for i in range(len(alpha)):\n",
    "    if len(alpha[i]) != 2:\n",
    "        alpha[i] = [None] * 2\n",
    "\n",
    "alpha = np.array(alpha)\n",
    "for i, c in enumerate('xy'):\n",
    "    df[f'alpha_{c}'] = alpha[:, i:i+1]"
   ]
  },
  {
   "cell_type": "code",
   "execution_count": 319,
   "metadata": {},
   "outputs": [],
   "source": [
    "df # 10283\n",
    "df = df.dropna() # 7152"
   ]
  },
  {
   "cell_type": "code",
   "execution_count": 320,
   "metadata": {},
   "outputs": [
    {
     "name": "stderr",
     "output_type": "stream",
     "text": [
      "/tmp/ipykernel_47617/8636922.py:2: SettingWithCopyWarning: \n",
      "A value is trying to be set on a copy of a slice from a DataFrame\n",
      "\n",
      "See the caveats in the documentation: https://pandas.pydata.org/pandas-docs/stable/user_guide/indexing.html#returning-a-view-versus-a-copy\n",
      "  df['sex'][df['sex'] == 'f'] = 0\n",
      "/tmp/ipykernel_47617/8636922.py:20: SettingWithCopyWarning: \n",
      "A value is trying to be set on a copy of a slice from a DataFrame\n",
      "\n",
      "See the caveats in the documentation: https://pandas.pydata.org/pandas-docs/stable/user_guide/indexing.html#returning-a-view-versus-a-copy\n",
      "  df[col][df[col] == k] = v\n",
      "/tmp/ipykernel_47617/8636922.py:24: SettingWithCopyWarning: \n",
      "A value is trying to be set on a copy of a slice from a DataFrame\n",
      "\n",
      "See the caveats in the documentation: https://pandas.pydata.org/pandas-docs/stable/user_guide/indexing.html#returning-a-view-versus-a-copy\n",
      "  df[col][df[col] == k] = v\n"
     ]
    }
   ],
   "source": [
    "df['sex'][df['sex'] == 'm'] = 1\n",
    "df['sex'][df['sex'] == 'f'] = 0\n",
    "\n",
    "# ['a_diagnose', 'b_diagnose']\n",
    "dig_1 = {\n",
    "    'normal': 0,\n",
    "    'mild Dysplasia': 1,\n",
    "    'moderate dysplasia': 2,\n",
    "    'severe dysplasia': 3,\n",
    "}\n",
    "\n",
    "# ['diagnose']\n",
    "dig_2 = {\n",
    "    'normal': 0,\n",
    "    'abnormal': 1,\n",
    "}\n",
    "\n",
    "for col in ['a_diagnose', 'b_diagnose']:\n",
    "    for k, v in dig_1.items():\n",
    "        df[col][df[col] == k] = v\n",
    "\n",
    "for col in ['diagnose']:\n",
    "    for k, v in dig_2.items():\n",
    "        df[col][df[col] == k] = v"
   ]
  },
  {
   "cell_type": "code",
   "execution_count": 321,
   "metadata": {},
   "outputs": [],
   "source": [
    "df.to_csv('data.csv', index=False)"
   ]
  }
 ],
 "metadata": {
  "interpreter": {
   "hash": "58907fe78f63c93a3114ab5e0fdb36e51d265a83145a0a6852cc052e563a673e"
  },
  "kernelspec": {
   "display_name": "Python 3.9.7 64-bit ('anaconda3-2021.11')",
   "language": "python",
   "name": "python3"
  },
  "language_info": {
   "codemirror_mode": {
    "name": "ipython",
    "version": 3
   },
   "file_extension": ".py",
   "mimetype": "text/x-python",
   "name": "python",
   "nbconvert_exporter": "python",
   "pygments_lexer": "ipython3",
   "version": "3.9.7"
  },
  "orig_nbformat": 4
 },
 "nbformat": 4,
 "nbformat_minor": 2
}
